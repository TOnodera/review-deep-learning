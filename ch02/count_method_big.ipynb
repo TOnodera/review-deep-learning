{
 "cells": [
  {
   "cell_type": "code",
   "execution_count": 1,
   "id": "18130b0b",
   "metadata": {},
   "outputs": [
    {
     "name": "stdout",
     "output_type": "stream",
     "text": [
      "Cloning into 'review-deep-learning'...\n",
      "remote: Enumerating objects: 97, done.\u001b[K\n",
      "remote: Counting objects: 100% (97/97), done.\u001b[K\n",
      "remote: Compressing objects: 100% (67/67), done.\u001b[K\n",
      "remote: Total 97 (delta 46), reused 66 (delta 24), pack-reused 0 (from 0)\u001b[K\n",
      "Receiving objects: 100% (97/97), 1.39 MiB | 16.57 MiB/s, done.\n",
      "Resolving deltas: 100% (46/46), done.\n"
     ]
    }
   ],
   "source": [
    "!rm -fr review-deep-learning\n",
    "!git clone https://github.com/TOnodera/review-deep-learning.git"
   ]
  },
  {
   "cell_type": "code",
   "execution_count": null,
   "id": "63786aa1",
   "metadata": {},
   "outputs": [],
   "source": [
    "import sys\n",
    "sys.path.append(\"/content/review-deep-learning/ch02\")\n",
    "from dataset import ptb\n",
    "import numpy as np\n",
    "from common.util import most_similar,  create_co_matrix, ppmi\n",
    "\n",
    "window_size = 2\n",
    "wordvec_size = 100\n",
    "\n",
    "corpus, word_to_id, id_to_word = ptb.load_data('train')\n",
    "vocab_size = len(word_to_id)\n",
    "\n",
    "print('counting co-occurrence ...')\n",
    "C = create_co_matrix(corpus, vocab_size, window_size)\n",
    "print('caluculate ppmi ...')\n",
    "W = ppmi(C)\n",
    "\n",
    "\n",
    "print('caluculate svd ...')\n",
    "try:\n",
    "    from sklearn.utils.extmath import randomized_svd\n",
    "    U, S, V = randomized_svd(W, n_components=wordvec_size, n_iter=5, random_state=None)\n",
    "except ImportError:\n",
    "    print(\"scikit-learn is not installed\")\n",
    "    \n",
    "word_vecs = U[:, :wordvec_size]\n",
    "\n",
    "querys = ['you', 'year', 'car', 'toyota']\n",
    "\n",
    "for query in querys:\n",
    "    most_similar(query, word_vecs, word_to_id, id_to_word, top=5)\n"
   ]
  }
 ],
 "metadata": {
  "kernelspec": {
   "display_name": "Python 3",
   "language": "python",
   "name": "python3"
  },
  "language_info": {
   "codemirror_mode": {
    "name": "ipython",
    "version": 3
   },
   "file_extension": ".py",
   "mimetype": "text/x-python",
   "name": "python",
   "nbconvert_exporter": "python",
   "pygments_lexer": "ipython3",
   "version": "3.11.13"
  }
 },
 "nbformat": 4,
 "nbformat_minor": 5
}
