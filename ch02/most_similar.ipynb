{
 "cells": [
  {
   "cell_type": "code",
   "execution_count": null,
   "id": "df1a4e9f",
   "metadata": {},
   "outputs": [],
   "source": [
    "!git clone https://github.com/TOnodera/review-deep-learning.git"
   ]
  },
  {
   "cell_type": "code",
   "execution_count": null,
   "id": "58dc9607",
   "metadata": {},
   "outputs": [],
   "source": [
    "import sys\n",
    "sys.path.append(\"/content/review-deep-learning/ch02\")\n",
    "from common.util import preprocess, create_co_matrix, most_similar\n",
    "\n",
    "text = 'You say goodbye and I say hello.'\n",
    "corpus, word_to_id, id_to_word = preprocess(text)\n",
    "vocab_size = len(word_to_id)\n",
    "C = create_co_matrix(corpus, vocab_size, window_size=1)\n",
    "\n",
    "most_similar('you', word_to_id, id_to_word, C, top=5)"
   ]
  }
 ],
 "metadata": {
  "language_info": {
   "name": "python"
  }
 },
 "nbformat": 4,
 "nbformat_minor": 5
}
