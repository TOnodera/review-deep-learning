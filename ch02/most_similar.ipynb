{
  "cells": [
    {
      "cell_type": "code",
      "source": [
        "!rm -fr review-deep-learning\n",
        "!git clone https://github.com/TOnodera/review-deep-learning.git"
      ],
      "metadata": {
        "id": "ztaqtjj-eDUd",
        "outputId": "b90d8f2d-3eab-49e1-e0a7-eb89965f6bed",
        "colab": {
          "base_uri": "https://localhost:8080/"
        }
      },
      "id": "ztaqtjj-eDUd",
      "execution_count": 3,
      "outputs": [
        {
          "output_type": "stream",
          "name": "stdout",
          "text": [
            "Cloning into 'review-deep-learning'...\n",
            "remote: Enumerating objects: 89, done.\u001b[K\n",
            "remote: Counting objects: 100% (89/89), done.\u001b[K\n",
            "remote: Compressing objects: 100% (61/61), done.\u001b[K\n",
            "remote: Total 89 (delta 40), reused 64 (delta 22), pack-reused 0 (from 0)\u001b[K\n",
            "Receiving objects: 100% (89/89), 1.39 MiB | 8.84 MiB/s, done.\n",
            "Resolving deltas: 100% (40/40), done.\n"
          ]
        }
      ]
    },
    {
      "cell_type": "code",
      "execution_count": 4,
      "id": "58dc9607",
      "metadata": {
        "colab": {
          "base_uri": "https://localhost:8080/"
        },
        "id": "58dc9607",
        "outputId": "6c4dce3f-536d-40c2-c50d-b43e523237e3"
      },
      "outputs": [
        {
          "output_type": "stream",
          "name": "stdout",
          "text": [
            "\n",
            "[query] you\n",
            " goodbye: 0.7071067691154799\n",
            " hello: 0.7071067691154799\n",
            " i: 0.7071067691154799\n",
            " and: 0.0\n",
            " say: 0.0\n"
          ]
        }
      ],
      "source": [
        "import sys\n",
        "sys.path.append(\"/content/review-deep-learning/ch02\")\n",
        "from common.util import preprocess, create_co_matrix, most_similar\n",
        "\n",
        "text = 'You say goodbye and I say hello.'\n",
        "corpus, word_to_id, id_to_word = preprocess(text)\n",
        "vocab_size = len(word_to_id)\n",
        "C = create_co_matrix(corpus, vocab_size, window_size=1)\n",
        "\n",
        "most_similar('you', word_to_id, id_to_word, C, top=5)"
      ]
    }
  ],
  "metadata": {
    "language_info": {
      "name": "python"
    },
    "colab": {
      "provenance": []
    },
    "kernelspec": {
      "name": "python3",
      "display_name": "Python 3"
    }
  },
  "nbformat": 4,
  "nbformat_minor": 5
}