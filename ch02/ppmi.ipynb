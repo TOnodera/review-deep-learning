{
  "cells": [
    {
      "cell_type": "markdown",
      "id": "e5cd0c4f",
      "metadata": {},
      "source": [
        "# 相互情報量"
      ]
    },
    {
      "cell_type": "code",
      "execution_count": 3,
      "id": "ztaqtjj-eDUd",
      "metadata": {
        "colab": {
          "base_uri": "https://localhost:8080/"
        },
        "id": "ztaqtjj-eDUd",
        "outputId": "b90d8f2d-3eab-49e1-e0a7-eb89965f6bed"
      },
      "outputs": [
        {
          "name": "stdout",
          "output_type": "stream",
          "text": [
            "Cloning into 'review-deep-learning'...\n",
            "remote: Enumerating objects: 89, done.\u001b[K\n",
            "remote: Counting objects: 100% (89/89), done.\u001b[K\n",
            "remote: Compressing objects: 100% (61/61), done.\u001b[K\n",
            "remote: Total 89 (delta 40), reused 64 (delta 22), pack-reused 0 (from 0)\u001b[K\n",
            "Receiving objects: 100% (89/89), 1.39 MiB | 8.84 MiB/s, done.\n",
            "Resolving deltas: 100% (40/40), done.\n"
          ]
        }
      ],
      "source": [
        "!rm -fr review-deep-learning\n",
        "!git clone https://github.com/TOnodera/review-deep-learning.git"
      ]
    },
    {
      "cell_type": "markdown",
      "id": "dabf366a",
      "metadata": {},
      "source": []
    },
    {
      "cell_type": "code",
      "execution_count": null,
      "id": "58dc9607",
      "metadata": {
        "colab": {
          "base_uri": "https://localhost:8080/"
        },
        "id": "58dc9607",
        "outputId": "6c4dce3f-536d-40c2-c50d-b43e523237e3"
      },
      "outputs": [
        {
          "name": "stdout",
          "output_type": "stream",
          "text": [
            "\n",
            "[query] you\n",
            " goodbye: 0.7071067691154799\n",
            " hello: 0.7071067691154799\n",
            " i: 0.7071067691154799\n",
            " and: 0.0\n",
            " say: 0.0\n"
          ]
        }
      ],
      "source": [
        "import sys\n",
        "sys.path.append(\"/content/review-deep-learning/ch02\")\n",
        "\n",
        "import numpy as np\n",
        "from common.util import preprocess, create_co_matrix, ppmi\n",
        "\n",
        "text = 'You say goodbye and I say hello.'\n",
        "corpus, word_to_id, id_to_word = preprocess(text)\n",
        "vocab_size = len(word_to_id)\n",
        "C = create_co_matrix(corpus, vocab_size)\n",
        "W = ppmi(C)\n",
        "\n",
        "np.set_printoptions(precision=3)\n",
        "print('co-occurence matrix')\n",
        "print(C)\n",
        "print('-' * 50)\n",
        "print('PPMI matrix')\n",
        "print(W)"
      ]
    }
  ],
  "metadata": {
    "colab": {
      "provenance": []
    },
    "kernelspec": {
      "display_name": "Python 3",
      "name": "python3"
    },
    "language_info": {
      "name": "python"
    }
  },
  "nbformat": 4,
  "nbformat_minor": 5
}
